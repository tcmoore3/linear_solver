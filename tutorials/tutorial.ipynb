{
 "cells": [
  {
   "cell_type": "markdown",
   "metadata": {},
   "source": [
    "This module helps solve systems of linear equations. There are several ways of doing this. The first is to just pass the coefficients as a list of lists. Say we want to solve the system of equations:\n",
    "$$\n",
    "\\begin{array}{c|c|c}\n",
    "x - y = 5\\\\\n",
    "x + y = -1\n",
    "\\end{array}\n",
    "$$\n",
    "This is done with a simple call to linear_solver.solve_linear_system(), like so"
   ]
  },
  {
   "cell_type": "code",
   "execution_count": 1,
   "metadata": {
    "collapsed": false
   },
   "outputs": [
    {
     "name": "stdout",
     "output_type": "stream",
     "text": [
      "[[ 2.]\n",
      " [-3.]]\n"
     ]
    }
   ],
   "source": [
    "import linear_solver as ls\n",
    "\n",
    "xs = ls.solve_linear_system(\n",
    "    [[1, -1, 5], \n",
    "     [1, 1, -1]])\n",
    "print(xs)"
   ]
  },
  {
   "cell_type": "markdown",
   "metadata": {},
   "source": [
    "Clearly, the solution set $(2, -3)$ satisfies the two equations above.\n",
    "\n",
    "If a system of equations that has no unique solutions is given, a warning is printed and ```None``` is returned."
   ]
  },
  {
   "cell_type": "code",
   "execution_count": 2,
   "metadata": {
    "collapsed": false
   },
   "outputs": [
    {
     "name": "stdout",
     "output_type": "stream",
     "text": [
      "Determinant of coefficients matrix is 0. No unique solution.\n",
      "None\n"
     ]
    }
   ],
   "source": [
    "xs = ls.solve_linear_system(\n",
    "    [[1, 1, 0],\n",
    "    [2, 2, 0]])\n",
    "print(xs)"
   ]
  },
  {
   "cell_type": "code",
   "execution_count": 3,
   "metadata": {
    "collapsed": false
   },
   "outputs": [
    {
     "name": "stdout",
     "output_type": "stream",
     "text": [
      "Determinant of coefficients matrix is 0. No unique solution.\n",
      "None\n"
     ]
    }
   ],
   "source": [
    "xs = ls.solve_linear_system(\n",
    "    [[1, 1, 0],\n",
    "    [2, 2, 1]])\n",
    "print(xs)"
   ]
  },
  {
   "cell_type": "markdown",
   "metadata": {},
   "source": [
    "Additionally, the coefficients of the equation can be read from a text file, where expressions are evaluated before they are read. For example, consider the following system of equations:\n",
    "\n",
    "\n",
    "$\n",
    "\\begin{array}{c|c|c|c}\n",
    "22m_1 + 22m_2 - m_3 = 0\\\\\n",
    "(0.1)(22)m_1 + (0.9)(22)m_2 - 0.6m_3 = 0\\\\\n",
    "(22/0.68)m_1 + (22/0.78)m_2 = (500)(3.785)\n",
    "\\end{array}\n",
    "$\n",
    "\n",
    "We can put these coefficients into a text file, ```'coefficients.txt'```, which has the contents\n",
    "<pre>\n",
    "\\# contents of coefficients.txt\n",
    "22 22 -1 0\n",
    "0.1\\*22  0.9\\*22 -0.6 0\n",
    "22/0.68 22/0.78 0 500\\*3.785\n",
    "</pre>\n",
    "and then pass that file to the solver function.\n"
   ]
  },
  {
   "cell_type": "code",
   "execution_count": 4,
   "metadata": {
    "collapsed": false
   },
   "outputs": [
    {
     "name": "stdout",
     "output_type": "stream",
     "text": [
      "m_0 = 23.85\n",
      "m_1 = 39.74\n",
      "m_2 = 1399.00\n"
     ]
    }
   ],
   "source": [
    "sol = ls.solve_linear_system('coefficients.txt')\n",
    "for i, row in enumerate(sol):\n",
    "     print('m_{0} = {1:.2f}'.format(i, row[0,0]))"
   ]
  }
 ],
 "metadata": {
  "kernelspec": {
   "display_name": "Python 3",
   "language": "python",
   "name": "python3"
  },
  "language_info": {
   "codemirror_mode": {
    "name": "ipython",
    "version": 3
   },
   "file_extension": ".py",
   "mimetype": "text/x-python",
   "name": "python",
   "nbconvert_exporter": "python",
   "pygments_lexer": "ipython3",
   "version": "3.5.1"
  }
 },
 "nbformat": 4,
 "nbformat_minor": 0
}
